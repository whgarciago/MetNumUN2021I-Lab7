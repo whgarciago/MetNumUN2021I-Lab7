{
  "nbformat": 4,
  "nbformat_minor": 0,
  "metadata": {
    "kernelspec": {
      "display_name": "Python 3",
      "language": "python",
      "name": "python3"
    },
    "language_info": {
      "codemirror_mode": {
        "name": "ipython",
        "version": 3
      },
      "file_extension": ".py",
      "mimetype": "text/x-python",
      "name": "python",
      "nbconvert_exporter": "python",
      "pygments_lexer": "ipython3",
      "version": "3.5.2"
    },
    "colab": {
      "name": "whgarciagoAlgorithmicToolboxWeek1Quadratic.ipynb",
      "provenance": []
    }
  },
  "cells": [
    {
      "cell_type": "markdown",
      "metadata": {
        "id": "epyQrRdsnZFp"
      },
      "source": [
        "## Solve a quadratic equation, $x^2 + b x + c = 0$.\n",
        "\n",
        "\n",
        "Write a function which receives $b$ and $c$, the coefficients of a monic quadratic polynomial, $x^2 + b x + c$, and returns the pair of its roots. Your function should always return two values, even if quadratic has a double root.\n",
        "\n",
        "For example, given a quadratic $x^2 - 2x + 1$, your function should return a pair of $(1, 1)$. Of course, in floating point, your answers may differ from an exact unity.\n",
        "\n",
        "Your function also must correctly handle complex roots (to this end, you might need the `cmath` module from the standard library)."
      ]
    },
    {
      "cell_type": "code",
      "metadata": {
        "id": "bzIaSX7iWJOm"
      },
      "source": [
        "\n",
        "    \"\"\"Solve a quadratic equation, x**2 + bx + c = 0.\n",
        "    \n",
        "    Parameters\n",
        "    ----------\n",
        "    b, c : float\n",
        "       Coefficients\n",
        "       \n",
        "    Returns\n",
        "    -------\n",
        "    x1, x2 : float or complex\n",
        "       Roots.\n",
        "    \"\"\"\n",
        "    # ... enter your code here ...\n"
      ],
      "execution_count": null,
      "outputs": []
    },
    {
      "cell_type": "code",
      "metadata": {
        "collapsed": true,
        "id": "Y6LHI7ZCnZFz"
      },
      "source": [
        "import math\n",
        "def solve_quad( b , c):\n",
        "  \n",
        "  deter = b**2-4*c\n",
        "  #B**2 and 4*C are tooo close for the computers precision\n",
        "  if (deter == b**2 ):\n",
        "      x1 = -b\n",
        "      x2 = -(c/b)\n",
        "  #Roots are real numbers\n",
        "  elif (deter >= 0 ):\n",
        "      r = math.sqrt(deter)\n",
        "      x1 = (-b + r)/2\n",
        "      x2 = (-b - r)/2\n",
        "  #Roots are complex numbers\n",
        "  else:\n",
        "      r = math.sqrt(-deter)\n",
        "      x1 = complex(-b/2,-r/2)\n",
        "      x2 = complex(-b/2,r/2)\n",
        "      \n",
        "  return x1,x2\n"
      ],
      "execution_count": 25,
      "outputs": []
    },
    {
      "cell_type": "markdown",
      "metadata": {
        "id": "016cYVLznZF1"
      },
      "source": [
        "Test the your function on several examples against a calculation by hand. Once you're sure that your function works, try these five test cases below. \n",
        "\n",
        "Note that the last two test cases are special: they test whether your function handles extreme cases where a too simple approach is prone to a catastrophic cancellation. Make sure your function passes all five tests.\n",
        "\n",
        "This exercise is graded, each test case contributes a 20% of the grade. "
      ]
    },
    {
      "cell_type": "code",
      "metadata": {
        "collapsed": true,
        "id": "nBfosKbAnZF1"
      },
      "source": [
        "from numpy import allclose"
      ],
      "execution_count": 19,
      "outputs": []
    },
    {
      "cell_type": "code",
      "metadata": {
        "collapsed": true,
        "id": "ptqd18DxnZF2"
      },
      "source": [
        "variants = [{'b': 4.0, 'c': 3.0},\n",
        "            {'b': 2.0, 'c': 1.0},\n",
        "            {'b': 0.5, 'c': 4.0},\n",
        "            {'b': 1e10, 'c': 3.0},\n",
        "            {'b': -1e10, 'c': 4.0},]"
      ],
      "execution_count": 16,
      "outputs": []
    },
    {
      "cell_type": "code",
      "metadata": {
        "collapsed": true,
        "colab": {
          "base_uri": "https://localhost:8080/"
        },
        "id": "xof_efbQnZF2",
        "outputId": "7b61bb44-f3f8-4a8f-d3ae-348188713e7e"
      },
      "source": [
        "for var in variants:\n",
        "    x1, x2 = solve_quad(**var)\n",
        "    print(allclose(x1*x2, var['c']))"
      ],
      "execution_count": 26,
      "outputs": [
        {
          "output_type": "stream",
          "text": [
            "True\n",
            "True\n",
            "True\n",
            "True\n",
            "True\n"
          ],
          "name": "stdout"
        }
      ]
    }
  ]
}